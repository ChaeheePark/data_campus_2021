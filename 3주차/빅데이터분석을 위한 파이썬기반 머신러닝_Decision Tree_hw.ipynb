{
 "cells": [
  {
   "cell_type": "markdown",
   "metadata": {},
   "source": [
    "### 1. DT를 이용\n",
    "\n",
    "#### 와인 등급을 분류하는 모델을 만들어 시각화한 후, 모델 성능을 평가하시오."
   ]
  },
  {
   "cell_type": "code",
   "execution_count": 1,
   "metadata": {},
   "outputs": [],
   "source": [
    "from sklearn import tree\n",
    "from sklearn.datasets import load_wine\n",
    "from sklearn.model_selection import train_test_split\n",
    "from sklearn.metrics import confusion_matrix, accuracy_score"
   ]
  },
  {
   "cell_type": "code",
   "execution_count": 2,
   "metadata": {},
   "outputs": [],
   "source": [
    "wine=load_wine()"
   ]
  },
  {
   "cell_type": "code",
   "execution_count": 3,
   "metadata": {},
   "outputs": [
    {
     "data": {
      "text/plain": [
       "array(['class_0', 'class_1', 'class_2'], dtype='<U7')"
      ]
     },
     "execution_count": 3,
     "metadata": {},
     "output_type": "execute_result"
    }
   ],
   "source": [
    "wine.target_names"
   ]
  },
  {
   "cell_type": "code",
   "execution_count": 4,
   "metadata": {},
   "outputs": [
    {
     "data": {
      "text/plain": [
       "['alcohol',\n",
       " 'malic_acid',\n",
       " 'ash',\n",
       " 'alcalinity_of_ash',\n",
       " 'magnesium',\n",
       " 'total_phenols',\n",
       " 'flavanoids',\n",
       " 'nonflavanoid_phenols',\n",
       " 'proanthocyanins',\n",
       " 'color_intensity',\n",
       " 'hue',\n",
       " 'od280/od315_of_diluted_wines',\n",
       " 'proline']"
      ]
     },
     "execution_count": 4,
     "metadata": {},
     "output_type": "execute_result"
    }
   ],
   "source": [
    "wine.feature_names"
   ]
  },
  {
   "cell_type": "code",
   "execution_count": 6,
   "metadata": {},
   "outputs": [
    {
     "name": "stdout",
     "output_type": "stream",
     "text": [
      "(124, 13) (54, 13) (124,) (54,)\n"
     ]
    }
   ],
   "source": [
    "x_train,x_test,y_train,y_test=train_test_split(wine.data,wine.target,train_size=0.7,test_size=0.3,\n",
    "                                              random_state=102)\n",
    "print(x_train.shape,x_test.shape,y_train.shape,y_test.shape)"
   ]
  },
  {
   "cell_type": "code",
   "execution_count": 8,
   "metadata": {},
   "outputs": [
    {
     "name": "stdout",
     "output_type": "stream",
     "text": [
      "[[18  0  0]\n",
      " [ 0 21  0]\n",
      " [ 0  1 14]]\n",
      "0.9814814814814815\n"
     ]
    }
   ],
   "source": [
    "cif=tree.DecisionTreeClassifier()\n",
    "cif_dt=cif.fit(x_train,y_train)\n",
    "y_pred=cif_dt.predict(x_test)\n",
    "\n",
    "print(confusion_matrix(y_test,y_pred))\n",
    "print(accuracy_score(y_test,y_pred))"
   ]
  },
  {
   "cell_type": "code",
   "execution_count": 10,
   "metadata": {},
   "outputs": [
    {
     "name": "stdout",
     "output_type": "stream",
     "text": [
      "[[18  0  0]\n",
      " [ 1 20  0]\n",
      " [ 0  1 14]]\n",
      "0.9629629629629629\n"
     ]
    }
   ],
   "source": [
    "cif2=tree.DecisionTreeClassifier(criterion='entropy')\n",
    "cif_dt2=cif2.fit(x_train,y_train)\n",
    "y_pred2=cif_dt2.predict(x_test)\n",
    "\n",
    "print(confusion_matrix(y_test,y_pred2))\n",
    "print(accuracy_score(y_test,y_pred2))"
   ]
  },
  {
   "cell_type": "code",
   "execution_count": 11,
   "metadata": {},
   "outputs": [
    {
     "name": "stdout",
     "output_type": "stream",
     "text": [
      "[[18  0  0]\n",
      " [ 3 18  0]\n",
      " [ 0  1 14]]\n",
      "0.9259259259259259\n"
     ]
    }
   ],
   "source": [
    "cif3=tree.DecisionTreeClassifier(criterion='entropy',max_depth=2)\n",
    "cif3_dt=cif3.fit(x_train,y_train)\n",
    "y_pred3=cif3_dt.predict(x_test)\n",
    "\n",
    "print(confusion_matrix(y_test,y_pred3))\n",
    "print(accuracy_score(y_test,y_pred3))"
   ]
  },
  {
   "cell_type": "markdown",
   "metadata": {},
   "source": [
    "### <더 나아가기>\n",
    "#### 과제까지 모두 하신 분들 중 더 연습 하고 싶다면... \n",
    "1. (wine) 속성 데이터들을 정규화시켜 DT 모형에 적합시키고, 정규화하지 않은 데이터와 성능 비교\n",
    "2. (titanic) DT 모형 적합시키고, 속성값들 변경하며 성능 비교"
   ]
  },
  {
   "cell_type": "code",
   "execution_count": null,
   "metadata": {},
   "outputs": [],
   "source": []
  }
 ],
 "metadata": {
  "kernelspec": {
   "display_name": "Python 3",
   "language": "python",
   "name": "python3"
  },
  "language_info": {
   "codemirror_mode": {
    "name": "ipython",
    "version": 3
   },
   "file_extension": ".py",
   "mimetype": "text/x-python",
   "name": "python",
   "nbconvert_exporter": "python",
   "pygments_lexer": "ipython3",
   "version": "3.7.9"
  }
 },
 "nbformat": 4,
 "nbformat_minor": 4
}
